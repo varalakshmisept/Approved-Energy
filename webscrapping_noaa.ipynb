{
 "cells": [
  {
   "cell_type": "code",
   "execution_count": 2,
   "metadata": {},
   "outputs": [],
   "source": [
    "import pandas as pd\n",
    "import requests\n",
    "from datetime import date\n",
    "import io\n",
    "import json\n"
   ]
  },
  {
   "cell_type": "code",
   "execution_count": 3,
   "metadata": {},
   "outputs": [],
   "source": [
    "\n",
    "def get_noaa_data(url, params, header):\n",
    "\n",
    "    r = requests.get(url, params, headers=header).text\n",
    "    rawData = pd.read_csv(io.StringIO(r))\n",
    "    return rawData"
   ]
  },
  {
   "cell_type": "code",
   "execution_count": 4,
   "metadata": {},
   "outputs": [],
   "source": [
    "def get_forecast_data(url):\n",
    "    r = requests.get(url)\n",
    "    json1_data = json.loads(r.text)\n",
    "    df = pd.DataFrame(json1_data['properties']['periods'])\n",
    "    print(r.text)\n",
    "    return df"
   ]
  },
  {
   "cell_type": "code",
   "execution_count": 5,
   "metadata": {},
   "outputs": [],
   "source": [
    "## Normals hourly\n",
    "# dewp - dew point\n",
    "# pres - pressure\n",
    "# temp - temperature"
   ]
  },
  {
   "cell_type": "code",
   "execution_count": 6,
   "metadata": {},
   "outputs": [],
   "source": [
    "### normals hourly for the year 2018 and 2019\n",
    "# Historical NYC's weather data from NCEI Data Service API\n",
    "token = 'BUYrNGlddVmsUDOUtgBRbGsrcxgUEEDD'\n",
    "creds = dict(token=token)\n",
    "#params = {'dataset': 'global-hourly', 'stations': 'USW00014732','startDate': '2019-01-01',\\\n",
    "#         'endDate': '2019-12-31',  'dataTypes': ['DATE','LATITUDE','LONGITUDE','ELEVATION','NAME','REPORT_TYPE','CALL_SIGN','QUALITY','WND','CIG','VIS','TMP','DEW','SLP'], 'units': 'standard'}\n",
    "\n",
    "\n",
    "params = {'dataset': 'normals-hourly', 'stations': 'USW00014732','startDate': '2020-01-01',\\\n",
    "         'endDate': '2020-12-31',  'dataTypes': ['DATE','HLY-TEMP-NORMAL','HLY-PRES-NORMAL','HLY-DEWP-NORMAL'], 'units': 'standard'}\n",
    "url = 'https://www.ncei.noaa.gov/access/services/data/v1'\n",
    "\n",
    "urlData = get_noaa_data(url, params, creds)\n",
    "urlData.to_csv('normals_hourly_2020.csv', index=False)\n",
    "\n",
    "\n",
    "params = {'dataset': 'normals-hourly', 'stations': 'USW00014732','startDate': '2019-01-01',\\\n",
    "         'endDate': '2019-12-31',  'dataTypes': ['DATE','HLY-TEMP-NORMAL','HLY-PRES-NORMAL','HLY-DEWP-NORMAL'], 'units': 'standard'}\n",
    "url = 'https://www.ncei.noaa.gov/access/services/data/v1'\n",
    "\n",
    "urlData = get_noaa_data(url, params, creds)\n",
    "urlData.to_csv('normals_hourly_2019.csv', index=False)\n"
   ]
  },
  {
   "cell_type": "code",
   "execution_count": 19,
   "metadata": {},
   "outputs": [],
   "source": [
    "# collecting precipitation hourly data for 208 and 2019\n",
    "### normals hourly for the year 2018 and 2019\n",
    "# Historical NYC's weather data from NCEI Data Service API\n",
    "\n",
    "\n",
    "params = {'dataset': 'precipitation-hourly', 'stations': 'USW00014732','startDate': '2018-01-01',\\\n",
    "         'endDate': '2018-12-31',  'dataTypes': ['DATE','HPCP'], 'units': 'standard'}\n",
    "url = 'https://www.ncei.noaa.gov/access/services/data/v1'\n",
    "\n",
    "urlData = get_noaa_data(url, params, creds)\n",
    "urlData.to_csv('precipitation_hourly_2018.csv', index=False)\n",
    "\n",
    "\n"
   ]
  },
  {
   "cell_type": "code",
   "execution_count": null,
   "metadata": {},
   "outputs": [],
   "source": []
  }
 ],
 "metadata": {
  "kernelspec": {
   "display_name": "Python 3",
   "language": "python",
   "name": "python3"
  },
  "language_info": {
   "codemirror_mode": {
    "name": "ipython",
    "version": 3
   },
   "file_extension": ".py",
   "mimetype": "text/x-python",
   "name": "python",
   "nbconvert_exporter": "python",
   "pygments_lexer": "ipython3",
   "version": "3.7.6"
  }
 },
 "nbformat": 4,
 "nbformat_minor": 4
}
